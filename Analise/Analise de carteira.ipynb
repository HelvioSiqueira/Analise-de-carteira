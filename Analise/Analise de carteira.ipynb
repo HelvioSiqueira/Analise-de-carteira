{
 "cells": [
  {
   "cell_type": "markdown",
   "metadata": {},
   "source": [
    "# Análise de ativos usando Python e análise de dados"
   ]
  },
  {
   "cell_type": "markdown",
   "metadata": {},
   "source": [
    "Olá, sou Helvio Siqueira, estudante de Ciencia de Dados. Nos ultimos meses me interessei em investimentos pela bolsa, e para metodo de treino comprei algumas ações e fundos imobiliarios usando análise fundamentalista(ou tentando), e decidi agora usar o Python para uma análise de retornos. Fiz a compra desses ativos em momentos que achei propicio para obter algum lucro, mas como todo bom analista sabe, o mercado é extremamente volatil podendo não corresponder às nossa expectativas :)"
   ]
  },
  {
   "cell_type": "markdown",
   "metadata": {},
   "source": [
    "Faço aqui uma análise de ativos usando Python e algumas bibliotecas para análise de dados (Pandas, numpy, matplotlib, seaborn), deixo claro que a análise desses ativos não compõe nenhuma especie de recomendação. Desde já digo que aceito criticas e sugestões à respeito do código ;)"
   ]
  },
  {
   "cell_type": "markdown",
   "metadata": {},
   "source": [
    " "
   ]
  },
  {
   "cell_type": "markdown",
   "metadata": {},
   "source": [
    "Nesse inicio de codigo importo todas as bibliotecas que serão necessarias para fazer a análise(Pandas, Numpy) e plotar graficos(Matplotlib, Seaborn), a biblioteca pandas_datareader é responsavel por extrair os dados da API do Yahoo Finance(ainda ativa em 17/03/2021), API gratuita para a extração de dados do mercado financeiro."
   ]
  },
  {
   "cell_type": "code",
   "execution_count": 1,
   "metadata": {},
   "outputs": [],
   "source": [
    "import pandas as pd\n",
    "import pandas_datareader as web\n",
    "import numpy as np\n",
    "import matplotlib.pyplot as plt\n",
    "import seaborn as sns\n",
    "\n",
    "sns.set(style= 'whitegrid')"
   ]
  },
  {
   "cell_type": "markdown",
   "metadata": {},
   "source": [
    "Os ativos que vou fazer a análise seram: ITUB3(Itaú), TAEE3(Taesa), MXRF11(Fundo Maxi Renda), RECT11(Fundo UBS (BR) OFFICE), onde obtenho o fechamento do dia ajustado(com rendimentos, e JCP) desde 2015"
   ]
  },
  {
   "cell_type": "code",
   "execution_count": 2,
   "metadata": {},
   "outputs": [],
   "source": [
    "ativos = ['ITUB3.SA', 'TAEE3.SA', 'MXRF11.SA', 'RECT11.SA']\n",
    "\n",
    "dados = pd.DataFrame()\n",
    "\n",
    "for a in ativos:\n",
    "    dados[a] = web.DataReader(a, 'yahoo', '2015')['Adj Close']"
   ]
  },
  {
   "cell_type": "code",
   "execution_count": 3,
   "metadata": {},
   "outputs": [],
   "source": [
    "dados.reset_index(inplace= True)"
   ]
  },
  {
   "cell_type": "code",
   "execution_count": 4,
   "metadata": {},
   "outputs": [
    {
     "data": {
      "text/html": [
       "<div>\n",
       "<style scoped>\n",
       "    .dataframe tbody tr th:only-of-type {\n",
       "        vertical-align: middle;\n",
       "    }\n",
       "\n",
       "    .dataframe tbody tr th {\n",
       "        vertical-align: top;\n",
       "    }\n",
       "\n",
       "    .dataframe thead th {\n",
       "        text-align: right;\n",
       "    }\n",
       "</style>\n",
       "<table border=\"1\" class=\"dataframe\">\n",
       "  <thead>\n",
       "    <tr style=\"text-align: right;\">\n",
       "      <th></th>\n",
       "      <th>Date</th>\n",
       "      <th>ITUB3.SA</th>\n",
       "      <th>TAEE3.SA</th>\n",
       "      <th>MXRF11.SA</th>\n",
       "      <th>RECT11.SA</th>\n",
       "    </tr>\n",
       "  </thead>\n",
       "  <tbody>\n",
       "    <tr>\n",
       "      <th>0</th>\n",
       "      <td>2015-01-02</td>\n",
       "      <td>12.322999</td>\n",
       "      <td>6.219817</td>\n",
       "      <td>7.886515</td>\n",
       "      <td>NaN</td>\n",
       "    </tr>\n",
       "    <tr>\n",
       "      <th>1</th>\n",
       "      <td>2015-01-05</td>\n",
       "      <td>12.183867</td>\n",
       "      <td>6.219817</td>\n",
       "      <td>7.782810</td>\n",
       "      <td>NaN</td>\n",
       "    </tr>\n",
       "    <tr>\n",
       "      <th>2</th>\n",
       "      <td>2015-01-06</td>\n",
       "      <td>12.303122</td>\n",
       "      <td>6.219817</td>\n",
       "      <td>7.753180</td>\n",
       "      <td>NaN</td>\n",
       "    </tr>\n",
       "    <tr>\n",
       "      <th>3</th>\n",
       "      <td>2015-01-07</td>\n",
       "      <td>12.581381</td>\n",
       "      <td>6.219817</td>\n",
       "      <td>7.754168</td>\n",
       "      <td>NaN</td>\n",
       "    </tr>\n",
       "    <tr>\n",
       "      <th>4</th>\n",
       "      <td>2015-01-08</td>\n",
       "      <td>12.760263</td>\n",
       "      <td>6.219817</td>\n",
       "      <td>7.756143</td>\n",
       "      <td>NaN</td>\n",
       "    </tr>\n",
       "    <tr>\n",
       "      <th>...</th>\n",
       "      <td>...</td>\n",
       "      <td>...</td>\n",
       "      <td>...</td>\n",
       "      <td>...</td>\n",
       "      <td>...</td>\n",
       "    </tr>\n",
       "    <tr>\n",
       "      <th>1536</th>\n",
       "      <td>2021-03-17</td>\n",
       "      <td>24.980000</td>\n",
       "      <td>11.620000</td>\n",
       "      <td>10.330000</td>\n",
       "      <td>86.699997</td>\n",
       "    </tr>\n",
       "    <tr>\n",
       "      <th>1537</th>\n",
       "      <td>2021-03-18</td>\n",
       "      <td>25.070000</td>\n",
       "      <td>11.570000</td>\n",
       "      <td>10.290000</td>\n",
       "      <td>86.040001</td>\n",
       "    </tr>\n",
       "    <tr>\n",
       "      <th>1538</th>\n",
       "      <td>2021-03-19</td>\n",
       "      <td>25.090000</td>\n",
       "      <td>11.730000</td>\n",
       "      <td>10.330000</td>\n",
       "      <td>85.959999</td>\n",
       "    </tr>\n",
       "    <tr>\n",
       "      <th>1539</th>\n",
       "      <td>2021-03-22</td>\n",
       "      <td>25.209999</td>\n",
       "      <td>11.840000</td>\n",
       "      <td>10.310000</td>\n",
       "      <td>85.790001</td>\n",
       "    </tr>\n",
       "    <tr>\n",
       "      <th>1540</th>\n",
       "      <td>2021-03-23</td>\n",
       "      <td>24.780001</td>\n",
       "      <td>11.880000</td>\n",
       "      <td>10.310000</td>\n",
       "      <td>85.959999</td>\n",
       "    </tr>\n",
       "  </tbody>\n",
       "</table>\n",
       "<p>1541 rows × 5 columns</p>\n",
       "</div>"
      ],
      "text/plain": [
       "           Date   ITUB3.SA   TAEE3.SA  MXRF11.SA  RECT11.SA\n",
       "0    2015-01-02  12.322999   6.219817   7.886515        NaN\n",
       "1    2015-01-05  12.183867   6.219817   7.782810        NaN\n",
       "2    2015-01-06  12.303122   6.219817   7.753180        NaN\n",
       "3    2015-01-07  12.581381   6.219817   7.754168        NaN\n",
       "4    2015-01-08  12.760263   6.219817   7.756143        NaN\n",
       "...         ...        ...        ...        ...        ...\n",
       "1536 2021-03-17  24.980000  11.620000  10.330000  86.699997\n",
       "1537 2021-03-18  25.070000  11.570000  10.290000  86.040001\n",
       "1538 2021-03-19  25.090000  11.730000  10.330000  85.959999\n",
       "1539 2021-03-22  25.209999  11.840000  10.310000  85.790001\n",
       "1540 2021-03-23  24.780001  11.880000  10.310000  85.959999\n",
       "\n",
       "[1541 rows x 5 columns]"
      ]
     },
     "execution_count": 4,
     "metadata": {},
     "output_type": "execute_result"
    }
   ],
   "source": [
    "dados"
   ]
  },
  {
   "cell_type": "markdown",
   "metadata": {},
   "source": [
    "Aqui colho uma amostra de 10% dos dados sem reposição e reorganizo-os pela data para criar um grafico de linha mais resumido e bonito de se olhar."
   ]
  },
  {
   "cell_type": "code",
   "execution_count": 5,
   "metadata": {},
   "outputs": [],
   "source": [
    "resumo_itub= dados[['ITUB3.SA', 'Date']].sample(frac= 0.1, replace= False).sort_values(by= 'Date')\n",
    "resumo_taesa= dados[['TAEE3.SA', 'Date']].sample(frac= 0.1, replace= False).sort_values(by= 'Date')\n",
    "resumo_mxrf= dados[['MXRF11.SA', 'Date']].sample(frac= 0.1, replace= False).sort_values(by= 'Date')\n",
    "resumo_rect= dados[['RECT11.SA', 'Date']].sample(frac= 0.1, replace= False).sort_values(by= 'Date')"
   ]
  },
  {
   "cell_type": "code",
   "execution_count": 6,
   "metadata": {},
   "outputs": [],
   "source": [
    "resumo_itub.set_index('Date', inplace= True)\n",
    "resumo_taesa.set_index('Date', inplace= True)\n",
    "resumo_mxrf.set_index('Date', inplace= True)\n",
    "resumo_rect.set_index('Date', inplace= True)"
   ]
  },
  {
   "cell_type": "code",
   "execution_count": 7,
   "metadata": {},
   "outputs": [
    {
     "data": {
      "image/png": "[encoded data removed]",
      "text/plain": [
       "<Figure size 1440x360 with 1 Axes>"
      ]
     },
     "metadata": {},
     "output_type": "display_data"
    }
   ],
   "source": [
    "fig= plt.figure(figsize= (20, 5))\n",
    "\n",
    "ax= fig.add_subplot(1, 1, 1)\n",
    "\n",
    "resumo_itub.plot(ax= ax)\n",
    "\n",
    "ax.set_ylabel('Preço(R$)', fontdict = {'fontsize':15})\n",
    "\n",
    "resumo_taesa.plot(ax= ax)\n",
    "\n",
    "ax.tick_params(axis= 'x', labelrotation= 0)"
   ]
  },
  {
   "cell_type": "code",
   "execution_count": 8,
   "metadata": {},
   "outputs": [
    {
     "data": {
      "text/plain": [
       "<AxesSubplot:xlabel='Date'>"
      ]
     },
     "execution_count": 8,
     "metadata": {},
     "output_type": "execute_result"
    },
    {
     "data": {
      "image/png": "[encoded data removed]",
      "text/plain": [
       "<Figure size 1440x360 with 2 Axes>"
      ]
     },
     "metadata": {},
     "output_type": "display_data"
    }
   ],
   "source": [
    "fig= plt.figure(figsize= (20, 5))\n",
    "\n",
    "ax= fig.add_subplot(1, 2, 1)\n",
    "\n",
    "ax.set_ylabel('Preço(R$)', fontdict = {'fontsize':15})\n",
    "\n",
    "resumo_mxrf.plot(ax= ax)\n",
    "\n",
    "ax= fig.add_subplot(1, 2, 2)\n",
    "\n",
    "resumo_rect.plot(ax= ax, color= 'red', alpha= 0.6)\n"
   ]
  },
  {
   "cell_type": "code",
   "execution_count": null,
   "metadata": {},
   "outputs": [],
   "source": []
  },
  {
   "cell_type": "markdown",
   "metadata": {},
   "source": [
    "# Retorno dos ativos"
   ]
  },
  {
   "cell_type": "markdown",
   "metadata": {},
   "source": [
    "Começo a análise calculando o retorno dos ativos, que é exatamente o retorno diarios que os ativos dão, para anualizar esse valor basta tirar a media(.mean()) e multiplicar por 246(que é a quantidade de pregões medio em um ano). O retorno dos ativos foi obtido usando retorno logaritmico, mas a função .pct_change() que todo objeto DataFrame do pandas tem tambem poderia ser usada."
   ]
  },
  {
   "cell_type": "code",
   "execution_count": 9,
   "metadata": {},
   "outputs": [],
   "source": [
    "retorno = np.log(dados[['ITUB3.SA', 'TAEE3.SA', 'MXRF11.SA', 'RECT11.SA']] / dados[['ITUB3.SA', 'TAEE3.SA', 'MXRF11.SA', 'RECT11.SA']].shift(1))"
   ]
  },
  {
   "cell_type": "code",
   "execution_count": 10,
   "metadata": {},
   "outputs": [],
   "source": [
    "ret_anual = retorno.mean() * 246"
   ]
  },
  {
   "cell_type": "code",
   "execution_count": 11,
   "metadata": {},
   "outputs": [
    {
     "data": {
      "text/plain": [
       "ITUB3.SA     0.111590\n",
       "TAEE3.SA     0.103370\n",
       "MXRF11.SA    0.042804\n",
       "RECT11.SA   -0.079325\n",
       "dtype: float64"
      ]
     },
     "execution_count": 11,
     "metadata": {},
     "output_type": "execute_result"
    }
   ],
   "source": [
    "ret_anual"
   ]
  },
  {
   "cell_type": "code",
   "execution_count": null,
   "metadata": {},
   "outputs": [],
   "source": []
  },
  {
   "cell_type": "markdown",
   "metadata": {},
   "source": [
    "# Risco dos ativos"
   ]
  },
  {
   "cell_type": "markdown",
   "metadata": {},
   "source": [
    "O risco dos ativos é a quantificação da chance de que um ativo tem de apresentar risco, nessa análise eu utilizo o calculo de desvio padrão(.std()), e anualizo esse valor multiplicando por 246 elevado a 0.5(é preciso tirar a raiz da quantidade de pregões medio já que o calculo de desvio padrão também contém uma raiz)."
   ]
  },
  {
   "cell_type": "code",
   "execution_count": 12,
   "metadata": {},
   "outputs": [],
   "source": [
    "desvio = retorno.std()"
   ]
  },
  {
   "cell_type": "code",
   "execution_count": 13,
   "metadata": {},
   "outputs": [],
   "source": [
    "desv_anual = retorno.std() * (246 ** 0.5)"
   ]
  },
  {
   "cell_type": "code",
   "execution_count": 14,
   "metadata": {},
   "outputs": [
    {
     "data": {
      "text/plain": [
       "ITUB3.SA     0.298739\n",
       "TAEE3.SA     0.312453\n",
       "MXRF11.SA    0.153143\n",
       "RECT11.SA    0.202109\n",
       "dtype: float64"
      ]
     },
     "execution_count": 14,
     "metadata": {},
     "output_type": "execute_result"
    }
   ],
   "source": [
    "desv_anual"
   ]
  },
  {
   "cell_type": "code",
   "execution_count": 15,
   "metadata": {},
   "outputs": [
    {
     "data": {
      "text/html": [
       "<div>\n",
       "<style scoped>\n",
       "    .dataframe tbody tr th:only-of-type {\n",
       "        vertical-align: middle;\n",
       "    }\n",
       "\n",
       "    .dataframe tbody tr th {\n",
       "        vertical-align: top;\n",
       "    }\n",
       "\n",
       "    .dataframe thead th {\n",
       "        text-align: right;\n",
       "    }\n",
       "</style>\n",
       "<table border=\"1\" class=\"dataframe\">\n",
       "  <thead>\n",
       "    <tr style=\"text-align: right;\">\n",
       "      <th></th>\n",
       "      <th>ITUB3.SA</th>\n",
       "      <th>TAEE3.SA</th>\n",
       "      <th>MXRF11.SA</th>\n",
       "      <th>RECT11.SA</th>\n",
       "    </tr>\n",
       "  </thead>\n",
       "  <tbody>\n",
       "    <tr>\n",
       "      <th>0</th>\n",
       "      <td>NaN</td>\n",
       "      <td>NaN</td>\n",
       "      <td>NaN</td>\n",
       "      <td>NaN</td>\n",
       "    </tr>\n",
       "    <tr>\n",
       "      <th>1</th>\n",
       "      <td>-0.011355</td>\n",
       "      <td>0.000000</td>\n",
       "      <td>-0.013237</td>\n",
       "      <td>NaN</td>\n",
       "    </tr>\n",
       "    <tr>\n",
       "      <th>2</th>\n",
       "      <td>0.009740</td>\n",
       "      <td>0.000000</td>\n",
       "      <td>-0.003814</td>\n",
       "      <td>NaN</td>\n",
       "    </tr>\n",
       "    <tr>\n",
       "      <th>3</th>\n",
       "      <td>0.022365</td>\n",
       "      <td>0.000000</td>\n",
       "      <td>0.000127</td>\n",
       "      <td>NaN</td>\n",
       "    </tr>\n",
       "    <tr>\n",
       "      <th>4</th>\n",
       "      <td>0.014118</td>\n",
       "      <td>0.000000</td>\n",
       "      <td>0.000255</td>\n",
       "      <td>NaN</td>\n",
       "    </tr>\n",
       "    <tr>\n",
       "      <th>...</th>\n",
       "      <td>...</td>\n",
       "      <td>...</td>\n",
       "      <td>...</td>\n",
       "      <td>...</td>\n",
       "    </tr>\n",
       "    <tr>\n",
       "      <th>1536</th>\n",
       "      <td>0.027188</td>\n",
       "      <td>0.018238</td>\n",
       "      <td>0.000000</td>\n",
       "      <td>-0.019418</td>\n",
       "    </tr>\n",
       "    <tr>\n",
       "      <th>1537</th>\n",
       "      <td>0.003596</td>\n",
       "      <td>-0.004312</td>\n",
       "      <td>-0.003880</td>\n",
       "      <td>-0.007642</td>\n",
       "    </tr>\n",
       "    <tr>\n",
       "      <th>1538</th>\n",
       "      <td>0.000797</td>\n",
       "      <td>0.013734</td>\n",
       "      <td>0.003880</td>\n",
       "      <td>-0.000930</td>\n",
       "    </tr>\n",
       "    <tr>\n",
       "      <th>1539</th>\n",
       "      <td>0.004771</td>\n",
       "      <td>0.009334</td>\n",
       "      <td>-0.001938</td>\n",
       "      <td>-0.001980</td>\n",
       "    </tr>\n",
       "    <tr>\n",
       "      <th>1540</th>\n",
       "      <td>-0.017204</td>\n",
       "      <td>0.003373</td>\n",
       "      <td>0.000000</td>\n",
       "      <td>0.001980</td>\n",
       "    </tr>\n",
       "  </tbody>\n",
       "</table>\n",
       "<p>1541 rows × 4 columns</p>\n",
       "</div>"
      ],
      "text/plain": [
       "      ITUB3.SA  TAEE3.SA  MXRF11.SA  RECT11.SA\n",
       "0          NaN       NaN        NaN        NaN\n",
       "1    -0.011355  0.000000  -0.013237        NaN\n",
       "2     0.009740  0.000000  -0.003814        NaN\n",
       "3     0.022365  0.000000   0.000127        NaN\n",
       "4     0.014118  0.000000   0.000255        NaN\n",
       "...        ...       ...        ...        ...\n",
       "1536  0.027188  0.018238   0.000000  -0.019418\n",
       "1537  0.003596 -0.004312  -0.003880  -0.007642\n",
       "1538  0.000797  0.013734   0.003880  -0.000930\n",
       "1539  0.004771  0.009334  -0.001938  -0.001980\n",
       "1540 -0.017204  0.003373   0.000000   0.001980\n",
       "\n",
       "[1541 rows x 4 columns]"
      ]
     },
     "execution_count": 15,
     "metadata": {},
     "output_type": "execute_result"
    }
   ],
   "source": [
    "retorno"
   ]
  },
  {
   "cell_type": "markdown",
   "metadata": {},
   "source": [
    "Plotando em um grafico"
   ]
  },
  {
   "cell_type": "code",
   "execution_count": 16,
   "metadata": {},
   "outputs": [
    {
     "data": {
      "text/plain": [
       "<AxesSubplot:>"
      ]
     },
     "execution_count": 16,
     "metadata": {},
     "output_type": "execute_result"
    },
    {
     "data": {
      "image/png": "[encoded data removed]",
      "text/plain": [
       "<Figure size 1080x360 with 2 Axes>"
      ]
     },
     "metadata": {},
     "output_type": "display_data"
    }
   ],
   "source": [
    "plt.subplots(1, 2, figsize= (15, 5))\n",
    "\n",
    "plt.subplot(1, 2, 1)\n",
    "sns.barplot(x= ret_anual.index, y= ret_anual.values)\n",
    "\n",
    "plt.subplot(1, 2, 2)\n",
    "sns.barplot(x= desv_anual.index, y= desv_anual.values)"
   ]
  },
  {
   "cell_type": "code",
   "execution_count": null,
   "metadata": {},
   "outputs": [],
   "source": []
  },
  {
   "cell_type": "code",
   "execution_count": null,
   "metadata": {},
   "outputs": [],
   "source": []
  },
  {
   "cell_type": "markdown",
   "metadata": {},
   "source": [
    "# Correlação e covariancia dos ativos"
   ]
  },
  {
   "cell_type": "markdown",
   "metadata": {},
   "source": [
    "Correlação e covariancia são medidas para quantificar o comportamento de um ativo em relação a outro, podendo ter uma relação positiva(se um ativo sobre, o outro ativo também sobe), negativa(se um ativo sobre, o outro ativo desce) ou neutra(sem nenhuma relação entre o dois ativos). Todo objeto DataFrame do pandas tem um metodo .corr() e .cov() responsavel por calcular a correlação e a covariancia respectivamente."
   ]
  },
  {
   "cell_type": "code",
   "execution_count": 17,
   "metadata": {},
   "outputs": [],
   "source": [
    "correlacao = retorno.corr()"
   ]
  },
  {
   "cell_type": "code",
   "execution_count": 18,
   "metadata": {},
   "outputs": [],
   "source": [
    "covarian = retorno.cov()"
   ]
  },
  {
   "cell_type": "code",
   "execution_count": 19,
   "metadata": {},
   "outputs": [
    {
     "data": {
      "text/html": [
       "<div>\n",
       "<style scoped>\n",
       "    .dataframe tbody tr th:only-of-type {\n",
       "        vertical-align: middle;\n",
       "    }\n",
       "\n",
       "    .dataframe tbody tr th {\n",
       "        vertical-align: top;\n",
       "    }\n",
       "\n",
       "    .dataframe thead th {\n",
       "        text-align: right;\n",
       "    }\n",
       "</style>\n",
       "<table border=\"1\" class=\"dataframe\">\n",
       "  <thead>\n",
       "    <tr style=\"text-align: right;\">\n",
       "      <th></th>\n",
       "      <th>ITUB3.SA</th>\n",
       "      <th>TAEE3.SA</th>\n",
       "      <th>MXRF11.SA</th>\n",
       "      <th>RECT11.SA</th>\n",
       "    </tr>\n",
       "  </thead>\n",
       "  <tbody>\n",
       "    <tr>\n",
       "      <th>ITUB3.SA</th>\n",
       "      <td>0.000363</td>\n",
       "      <td>0.000037</td>\n",
       "      <td>0.000041</td>\n",
       "      <td>0.000081</td>\n",
       "    </tr>\n",
       "    <tr>\n",
       "      <th>TAEE3.SA</th>\n",
       "      <td>0.000037</td>\n",
       "      <td>0.000397</td>\n",
       "      <td>0.000014</td>\n",
       "      <td>0.000049</td>\n",
       "    </tr>\n",
       "    <tr>\n",
       "      <th>MXRF11.SA</th>\n",
       "      <td>0.000041</td>\n",
       "      <td>0.000014</td>\n",
       "      <td>0.000095</td>\n",
       "      <td>0.000068</td>\n",
       "    </tr>\n",
       "    <tr>\n",
       "      <th>RECT11.SA</th>\n",
       "      <td>0.000081</td>\n",
       "      <td>0.000049</td>\n",
       "      <td>0.000068</td>\n",
       "      <td>0.000166</td>\n",
       "    </tr>\n",
       "  </tbody>\n",
       "</table>\n",
       "</div>"
      ],
      "text/plain": [
       "           ITUB3.SA  TAEE3.SA  MXRF11.SA  RECT11.SA\n",
       "ITUB3.SA   0.000363  0.000037   0.000041   0.000081\n",
       "TAEE3.SA   0.000037  0.000397   0.000014   0.000049\n",
       "MXRF11.SA  0.000041  0.000014   0.000095   0.000068\n",
       "RECT11.SA  0.000081  0.000049   0.000068   0.000166"
      ]
     },
     "execution_count": 19,
     "metadata": {},
     "output_type": "execute_result"
    }
   ],
   "source": [
    "covarian"
   ]
  },
  {
   "cell_type": "code",
   "execution_count": 20,
   "metadata": {},
   "outputs": [
    {
     "data": {
      "text/html": [
       "<div>\n",
       "<style scoped>\n",
       "    .dataframe tbody tr th:only-of-type {\n",
       "        vertical-align: middle;\n",
       "    }\n",
       "\n",
       "    .dataframe tbody tr th {\n",
       "        vertical-align: top;\n",
       "    }\n",
       "\n",
       "    .dataframe thead th {\n",
       "        text-align: right;\n",
       "    }\n",
       "</style>\n",
       "<table border=\"1\" class=\"dataframe\">\n",
       "  <thead>\n",
       "    <tr style=\"text-align: right;\">\n",
       "      <th></th>\n",
       "      <th>ITUB3.SA</th>\n",
       "      <th>TAEE3.SA</th>\n",
       "      <th>MXRF11.SA</th>\n",
       "      <th>RECT11.SA</th>\n",
       "    </tr>\n",
       "  </thead>\n",
       "  <tbody>\n",
       "    <tr>\n",
       "      <th>ITUB3.SA</th>\n",
       "      <td>1.000000</td>\n",
       "      <td>0.097641</td>\n",
       "      <td>0.218853</td>\n",
       "      <td>0.282667</td>\n",
       "    </tr>\n",
       "    <tr>\n",
       "      <th>TAEE3.SA</th>\n",
       "      <td>0.097641</td>\n",
       "      <td>1.000000</td>\n",
       "      <td>0.069916</td>\n",
       "      <td>0.242699</td>\n",
       "    </tr>\n",
       "    <tr>\n",
       "      <th>MXRF11.SA</th>\n",
       "      <td>0.218853</td>\n",
       "      <td>0.069916</td>\n",
       "      <td>1.000000</td>\n",
       "      <td>0.420045</td>\n",
       "    </tr>\n",
       "    <tr>\n",
       "      <th>RECT11.SA</th>\n",
       "      <td>0.282667</td>\n",
       "      <td>0.242699</td>\n",
       "      <td>0.420045</td>\n",
       "      <td>1.000000</td>\n",
       "    </tr>\n",
       "  </tbody>\n",
       "</table>\n",
       "</div>"
      ],
      "text/plain": [
       "           ITUB3.SA  TAEE3.SA  MXRF11.SA  RECT11.SA\n",
       "ITUB3.SA   1.000000  0.097641   0.218853   0.282667\n",
       "TAEE3.SA   0.097641  1.000000   0.069916   0.242699\n",
       "MXRF11.SA  0.218853  0.069916   1.000000   0.420045\n",
       "RECT11.SA  0.282667  0.242699   0.420045   1.000000"
      ]
     },
     "execution_count": 20,
     "metadata": {},
     "output_type": "execute_result"
    }
   ],
   "source": [
    "correlacao"
   ]
  },
  {
   "cell_type": "markdown",
   "metadata": {},
   "source": [
    "O grafico heatmap é um grafico para a visualização de uma tabela de correlação, onde o espaço com a cor mais clara representa uma maior correlação entre os ativos e com a cor mais escura uma correlação negativa."
   ]
  },
  {
   "cell_type": "code",
   "execution_count": 21,
   "metadata": {},
   "outputs": [
    {
     "data": {
      "text/plain": [
       "<AxesSubplot:>"
      ]
     },
     "execution_count": 21,
     "metadata": {},
     "output_type": "execute_result"
    },
    {
     "data": {
      "image/png": "[encoded data removed]",
      "text/plain": [
       "<Figure size 648x576 with 2 Axes>"
      ]
     },
     "metadata": {},
     "output_type": "display_data"
    }
   ],
   "source": [
    "plt.figure(figsize= (9, 8))\n",
    "\n",
    "sns.heatmap(correlacao, vmax= 1, vmin= -1, annot= True, linewidths= 1)"
   ]
  },
  {
   "cell_type": "code",
   "execution_count": 22,
   "metadata": {},
   "outputs": [
    {
     "data": {
      "text/plain": [
       "ITUB3.SA     0.111590\n",
       "TAEE3.SA     0.103370\n",
       "MXRF11.SA    0.042804\n",
       "RECT11.SA   -0.079325\n",
       "dtype: float64"
      ]
     },
     "execution_count": 22,
     "metadata": {},
     "output_type": "execute_result"
    }
   ],
   "source": [
    "ret_anual"
   ]
  },
  {
   "cell_type": "code",
   "execution_count": 23,
   "metadata": {},
   "outputs": [
    {
     "data": {
      "text/plain": [
       "ITUB3.SA     0.298739\n",
       "TAEE3.SA     0.312453\n",
       "MXRF11.SA    0.153143\n",
       "RECT11.SA    0.202109\n",
       "dtype: float64"
      ]
     },
     "execution_count": 23,
     "metadata": {},
     "output_type": "execute_result"
    }
   ],
   "source": [
    "desv_anual"
   ]
  },
  {
   "cell_type": "markdown",
   "metadata": {},
   "source": [
    "# Sharpe Ratio"
   ]
  },
  {
   "cell_type": "markdown",
   "metadata": {},
   "source": [
    "Sharpe Ratio é uma variavel criada para auxiliar na comparação de dois ativos, um ativo com uma taxa de retorno alta e taxa de risco baixa resulta em um Sharpe ratio alto."
   ]
  },
  {
   "cell_type": "code",
   "execution_count": 24,
   "metadata": {},
   "outputs": [],
   "source": [
    "sharpe_ratio = ((ret_anual - 0.027) / desv_anual)"
   ]
  },
  {
   "cell_type": "code",
   "execution_count": 25,
   "metadata": {},
   "outputs": [],
   "source": [
    "sharpe_ratio.sort_values(ascending= False, inplace= True)"
   ]
  },
  {
   "cell_type": "code",
   "execution_count": 26,
   "metadata": {},
   "outputs": [
    {
     "data": {
      "text/plain": [
       "ITUB3.SA     0.283156\n",
       "TAEE3.SA     0.244422\n",
       "MXRF11.SA    0.103198\n",
       "RECT11.SA   -0.526076\n",
       "dtype: float64"
      ]
     },
     "execution_count": 26,
     "metadata": {},
     "output_type": "execute_result"
    }
   ],
   "source": [
    "sharpe_ratio"
   ]
  },
  {
   "cell_type": "code",
   "execution_count": 27,
   "metadata": {},
   "outputs": [
    {
     "data": {
      "text/plain": [
       "<AxesSubplot:>"
      ]
     },
     "execution_count": 27,
     "metadata": {},
     "output_type": "execute_result"
    },
    {
     "data": {
      "image/png": "[encoded data removed]",
      "text/plain": [
       "<Figure size 432x288 with 1 Axes>"
      ]
     },
     "metadata": {},
     "output_type": "display_data"
    }
   ],
   "source": [
    "sns.barplot(x= sharpe_ratio.values, y= sharpe_ratio.index)"
   ]
  },
  {
   "cell_type": "code",
   "execution_count": null,
   "metadata": {},
   "outputs": [],
   "source": []
  },
  {
   "cell_type": "markdown",
   "metadata": {},
   "source": [
    "# Beta dos ativos"
   ]
  },
  {
   "cell_type": "markdown",
   "metadata": {},
   "source": [
    "Variavel para quantificar o risco do ativo com relação ao mercado(IBOVESPA), quanto maior o Beta maior é a variancia do ativo em relação ao mercado, ou seja o ativo tem maior exposição ao mercado."
   ]
  },
  {
   "cell_type": "code",
   "execution_count": 28,
   "metadata": {},
   "outputs": [],
   "source": [
    "mercado_bova = web.DataReader('BOVA11.SA', 'yahoo', start= '2015')['Adj Close']"
   ]
  },
  {
   "cell_type": "code",
   "execution_count": 29,
   "metadata": {},
   "outputs": [],
   "source": [
    "mercado_bova= pd.DataFrame(mercado_bova)"
   ]
  },
  {
   "cell_type": "code",
   "execution_count": 30,
   "metadata": {},
   "outputs": [],
   "source": [
    "mercado_bova.rename(columns={'Adj Close': 'BOVA'}, inplace= True)"
   ]
  },
  {
   "cell_type": "code",
   "execution_count": 31,
   "metadata": {},
   "outputs": [],
   "source": [
    "mercado_bova.reset_index(inplace= True)"
   ]
  },
  {
   "cell_type": "code",
   "execution_count": 32,
   "metadata": {},
   "outputs": [],
   "source": [
    "dados_mercado = pd.merge(dados, mercado_bova)"
   ]
  },
  {
   "cell_type": "code",
   "execution_count": 33,
   "metadata": {},
   "outputs": [
    {
     "data": {
      "text/html": [
       "<div>\n",
       "<style scoped>\n",
       "    .dataframe tbody tr th:only-of-type {\n",
       "        vertical-align: middle;\n",
       "    }\n",
       "\n",
       "    .dataframe tbody tr th {\n",
       "        vertical-align: top;\n",
       "    }\n",
       "\n",
       "    .dataframe thead th {\n",
       "        text-align: right;\n",
       "    }\n",
       "</style>\n",
       "<table border=\"1\" class=\"dataframe\">\n",
       "  <thead>\n",
       "    <tr style=\"text-align: right;\">\n",
       "      <th></th>\n",
       "      <th>Date</th>\n",
       "      <th>ITUB3.SA</th>\n",
       "      <th>TAEE3.SA</th>\n",
       "      <th>MXRF11.SA</th>\n",
       "      <th>RECT11.SA</th>\n",
       "      <th>BOVA</th>\n",
       "    </tr>\n",
       "  </thead>\n",
       "  <tbody>\n",
       "    <tr>\n",
       "      <th>0</th>\n",
       "      <td>2015-01-02</td>\n",
       "      <td>12.322999</td>\n",
       "      <td>6.219817</td>\n",
       "      <td>7.886515</td>\n",
       "      <td>NaN</td>\n",
       "      <td>47.259998</td>\n",
       "    </tr>\n",
       "    <tr>\n",
       "      <th>1</th>\n",
       "      <td>2015-01-05</td>\n",
       "      <td>12.183867</td>\n",
       "      <td>6.219817</td>\n",
       "      <td>7.782810</td>\n",
       "      <td>NaN</td>\n",
       "      <td>46.320000</td>\n",
       "    </tr>\n",
       "    <tr>\n",
       "      <th>2</th>\n",
       "      <td>2015-01-06</td>\n",
       "      <td>12.303122</td>\n",
       "      <td>6.219817</td>\n",
       "      <td>7.753180</td>\n",
       "      <td>NaN</td>\n",
       "      <td>46.580002</td>\n",
       "    </tr>\n",
       "    <tr>\n",
       "      <th>3</th>\n",
       "      <td>2015-01-07</td>\n",
       "      <td>12.581381</td>\n",
       "      <td>6.219817</td>\n",
       "      <td>7.754168</td>\n",
       "      <td>NaN</td>\n",
       "      <td>48.150002</td>\n",
       "    </tr>\n",
       "    <tr>\n",
       "      <th>4</th>\n",
       "      <td>2015-01-08</td>\n",
       "      <td>12.760263</td>\n",
       "      <td>6.219817</td>\n",
       "      <td>7.756143</td>\n",
       "      <td>NaN</td>\n",
       "      <td>48.509998</td>\n",
       "    </tr>\n",
       "    <tr>\n",
       "      <th>...</th>\n",
       "      <td>...</td>\n",
       "      <td>...</td>\n",
       "      <td>...</td>\n",
       "      <td>...</td>\n",
       "      <td>...</td>\n",
       "      <td>...</td>\n",
       "    </tr>\n",
       "    <tr>\n",
       "      <th>1534</th>\n",
       "      <td>2021-03-15</td>\n",
       "      <td>24.629999</td>\n",
       "      <td>11.210000</td>\n",
       "      <td>10.360000</td>\n",
       "      <td>86.900002</td>\n",
       "      <td>110.519699</td>\n",
       "    </tr>\n",
       "    <tr>\n",
       "      <th>1535</th>\n",
       "      <td>2021-03-16</td>\n",
       "      <td>24.309999</td>\n",
       "      <td>11.410000</td>\n",
       "      <td>10.330000</td>\n",
       "      <td>88.400002</td>\n",
       "      <td>109.714340</td>\n",
       "    </tr>\n",
       "    <tr>\n",
       "      <th>1536</th>\n",
       "      <td>2021-03-17</td>\n",
       "      <td>24.980000</td>\n",
       "      <td>11.620000</td>\n",
       "      <td>10.330000</td>\n",
       "      <td>86.699997</td>\n",
       "      <td>112.149292</td>\n",
       "    </tr>\n",
       "    <tr>\n",
       "      <th>1537</th>\n",
       "      <td>2021-03-18</td>\n",
       "      <td>25.070000</td>\n",
       "      <td>11.570000</td>\n",
       "      <td>10.290000</td>\n",
       "      <td>86.040001</td>\n",
       "      <td>110.498611</td>\n",
       "    </tr>\n",
       "    <tr>\n",
       "      <th>1538</th>\n",
       "      <td>2021-03-23</td>\n",
       "      <td>24.780001</td>\n",
       "      <td>11.880000</td>\n",
       "      <td>10.310000</td>\n",
       "      <td>85.959999</td>\n",
       "      <td>109.019997</td>\n",
       "    </tr>\n",
       "  </tbody>\n",
       "</table>\n",
       "<p>1539 rows × 6 columns</p>\n",
       "</div>"
      ],
      "text/plain": [
       "           Date   ITUB3.SA   TAEE3.SA  MXRF11.SA  RECT11.SA        BOVA\n",
       "0    2015-01-02  12.322999   6.219817   7.886515        NaN   47.259998\n",
       "1    2015-01-05  12.183867   6.219817   7.782810        NaN   46.320000\n",
       "2    2015-01-06  12.303122   6.219817   7.753180        NaN   46.580002\n",
       "3    2015-01-07  12.581381   6.219817   7.754168        NaN   48.150002\n",
       "4    2015-01-08  12.760263   6.219817   7.756143        NaN   48.509998\n",
       "...         ...        ...        ...        ...        ...         ...\n",
       "1534 2021-03-15  24.629999  11.210000  10.360000  86.900002  110.519699\n",
       "1535 2021-03-16  24.309999  11.410000  10.330000  88.400002  109.714340\n",
       "1536 2021-03-17  24.980000  11.620000  10.330000  86.699997  112.149292\n",
       "1537 2021-03-18  25.070000  11.570000  10.290000  86.040001  110.498611\n",
       "1538 2021-03-23  24.780001  11.880000  10.310000  85.959999  109.019997\n",
       "\n",
       "[1539 rows x 6 columns]"
      ]
     },
     "execution_count": 33,
     "metadata": {},
     "output_type": "execute_result"
    }
   ],
   "source": [
    "dados_mercado"
   ]
  },
  {
   "cell_type": "code",
   "execution_count": 34,
   "metadata": {},
   "outputs": [],
   "source": [
    "dados_mercado_retorno= np.log(dados_mercado[['ITUB3.SA', 'TAEE3.SA', 'MXRF11.SA', 'RECT11.SA', 'BOVA']] / dados_mercado[['ITUB3.SA', 'TAEE3.SA', 'MXRF11.SA', 'RECT11.SA', 'BOVA']].shift(1))"
   ]
  },
  {
   "cell_type": "code",
   "execution_count": 35,
   "metadata": {},
   "outputs": [],
   "source": [
    "cov_com_mercado= dados_mercado_retorno.cov() * 246"
   ]
  },
  {
   "cell_type": "code",
   "execution_count": 36,
   "metadata": {},
   "outputs": [],
   "source": [
    "mercado_var= dados_mercado_retorno['BOVA'].var() * 246"
   ]
  },
  {
   "cell_type": "code",
   "execution_count": 37,
   "metadata": {},
   "outputs": [
    {
     "data": {
      "text/html": [
       "<div>\n",
       "<style scoped>\n",
       "    .dataframe tbody tr th:only-of-type {\n",
       "        vertical-align: middle;\n",
       "    }\n",
       "\n",
       "    .dataframe tbody tr th {\n",
       "        vertical-align: top;\n",
       "    }\n",
       "\n",
       "    .dataframe thead th {\n",
       "        text-align: right;\n",
       "    }\n",
       "</style>\n",
       "<table border=\"1\" class=\"dataframe\">\n",
       "  <thead>\n",
       "    <tr style=\"text-align: right;\">\n",
       "      <th></th>\n",
       "      <th>ITUB3.SA</th>\n",
       "      <th>TAEE3.SA</th>\n",
       "      <th>MXRF11.SA</th>\n",
       "      <th>RECT11.SA</th>\n",
       "      <th>BOVA</th>\n",
       "    </tr>\n",
       "  </thead>\n",
       "  <tbody>\n",
       "    <tr>\n",
       "      <th>ITUB3.SA</th>\n",
       "      <td>0.089331</td>\n",
       "      <td>0.009077</td>\n",
       "      <td>0.010023</td>\n",
       "      <td>0.020081</td>\n",
       "      <td>0.062860</td>\n",
       "    </tr>\n",
       "    <tr>\n",
       "      <th>TAEE3.SA</th>\n",
       "      <td>0.009077</td>\n",
       "      <td>0.097820</td>\n",
       "      <td>0.003352</td>\n",
       "      <td>0.012122</td>\n",
       "      <td>0.015889</td>\n",
       "    </tr>\n",
       "    <tr>\n",
       "      <th>MXRF11.SA</th>\n",
       "      <td>0.010023</td>\n",
       "      <td>0.003352</td>\n",
       "      <td>0.023481</td>\n",
       "      <td>0.016866</td>\n",
       "      <td>0.012075</td>\n",
       "    </tr>\n",
       "    <tr>\n",
       "      <th>RECT11.SA</th>\n",
       "      <td>0.020081</td>\n",
       "      <td>0.012122</td>\n",
       "      <td>0.016866</td>\n",
       "      <td>0.041020</td>\n",
       "      <td>0.021968</td>\n",
       "    </tr>\n",
       "    <tr>\n",
       "      <th>BOVA</th>\n",
       "      <td>0.062860</td>\n",
       "      <td>0.015889</td>\n",
       "      <td>0.012075</td>\n",
       "      <td>0.021968</td>\n",
       "      <td>0.074679</td>\n",
       "    </tr>\n",
       "  </tbody>\n",
       "</table>\n",
       "</div>"
      ],
      "text/plain": [
       "           ITUB3.SA  TAEE3.SA  MXRF11.SA  RECT11.SA      BOVA\n",
       "ITUB3.SA   0.089331  0.009077   0.010023   0.020081  0.062860\n",
       "TAEE3.SA   0.009077  0.097820   0.003352   0.012122  0.015889\n",
       "MXRF11.SA  0.010023  0.003352   0.023481   0.016866  0.012075\n",
       "RECT11.SA  0.020081  0.012122   0.016866   0.041020  0.021968\n",
       "BOVA       0.062860  0.015889   0.012075   0.021968  0.074679"
      ]
     },
     "execution_count": 37,
     "metadata": {},
     "output_type": "execute_result"
    }
   ],
   "source": [
    "cov_com_mercado"
   ]
  },
  {
   "cell_type": "code",
   "execution_count": 38,
   "metadata": {},
   "outputs": [],
   "source": [
    "beta_ativos= cov_com_mercado.iloc[4][:4] / mercado_var"
   ]
  },
  {
   "cell_type": "code",
   "execution_count": 39,
   "metadata": {},
   "outputs": [
    {
     "data": {
      "text/plain": [
       "ITUB3.SA     0.841740\n",
       "TAEE3.SA     0.212769\n",
       "MXRF11.SA    0.161689\n",
       "RECT11.SA    0.294165\n",
       "Name: BOVA, dtype: float64"
      ]
     },
     "execution_count": 39,
     "metadata": {},
     "output_type": "execute_result"
    }
   ],
   "source": [
    "beta_ativos"
   ]
  },
  {
   "cell_type": "code",
   "execution_count": 40,
   "metadata": {},
   "outputs": [
    {
     "data": {
      "text/plain": [
       "<AxesSubplot:>"
      ]
     },
     "execution_count": 40,
     "metadata": {},
     "output_type": "execute_result"
    },
    {
     "data": {
      "image/png": "[encoded data removed]",
      "text/plain": [
       "<Figure size 432x288 with 1 Axes>"
      ]
     },
     "metadata": {},
     "output_type": "display_data"
    }
   ],
   "source": [
    "sns.barplot(x= beta_ativos.index, y= beta_ativos.values)"
   ]
  },
  {
   "cell_type": "code",
   "execution_count": null,
   "metadata": {},
   "outputs": [],
   "source": []
  },
  {
   "cell_type": "markdown",
   "metadata": {},
   "source": [
    "# Retorno da carteira"
   ]
  },
  {
   "cell_type": "markdown",
   "metadata": {},
   "source": [
    "O retorno da carteira é o retorno da carteira de ativos, ele depende muito do peso de cada ativo na carteira. Podendo variar dependendo do retorno de cada ativo naquele momento e da quantidade de cada ativo."
   ]
  },
  {
   "cell_type": "code",
   "execution_count": 41,
   "metadata": {},
   "outputs": [],
   "source": [
    "dados.set_index('Date', inplace= True)"
   ]
  },
  {
   "cell_type": "code",
   "execution_count": 42,
   "metadata": {},
   "outputs": [],
   "source": [
    "preco_ativos= dados.iloc[-1]"
   ]
  },
  {
   "cell_type": "code",
   "execution_count": 43,
   "metadata": {},
   "outputs": [
    {
     "data": {
      "text/plain": [
       "ITUB3.SA     24.780001\n",
       "TAEE3.SA     11.880000\n",
       "MXRF11.SA    10.310000\n",
       "RECT11.SA    85.959999\n",
       "Name: 2021-03-23 00:00:00, dtype: float64"
      ]
     },
     "execution_count": 43,
     "metadata": {},
     "output_type": "execute_result"
    }
   ],
   "source": [
    "preco_ativos"
   ]
  },
  {
   "cell_type": "code",
   "execution_count": 44,
   "metadata": {},
   "outputs": [],
   "source": [
    "total_ativos= preco_ativos[0] * 2 + preco_ativos[1] * 4 + preco_ativos[2] * 11 + preco_ativos[3] * 1"
   ]
  },
  {
   "cell_type": "code",
   "execution_count": 45,
   "metadata": {},
   "outputs": [],
   "source": [
    "pesos = np.array([preco_ativos[0] * 2 / total_ativos, preco_ativos[1] * 4 / total_ativos, preco_ativos[2] * 11 / total_ativos, preco_ativos[3] * 1 / total_ativos])"
   ]
  },
  {
   "cell_type": "code",
   "execution_count": 46,
   "metadata": {},
   "outputs": [
    {
     "data": {
      "text/plain": [
       "array([0.16717828, 0.16029684, 0.38256031, 0.28996457])"
      ]
     },
     "execution_count": 46,
     "metadata": {},
     "output_type": "execute_result"
    }
   ],
   "source": [
    "pesos"
   ]
  },
  {
   "cell_type": "code",
   "execution_count": 47,
   "metadata": {},
   "outputs": [
    {
     "data": {
      "text/plain": [
       "ITUB3.SA     0.111590\n",
       "TAEE3.SA     0.103370\n",
       "MXRF11.SA    0.042804\n",
       "RECT11.SA   -0.079325\n",
       "dtype: float64"
      ]
     },
     "execution_count": 47,
     "metadata": {},
     "output_type": "execute_result"
    }
   ],
   "source": [
    "ret_anual"
   ]
  },
  {
   "cell_type": "code",
   "execution_count": 48,
   "metadata": {},
   "outputs": [],
   "source": [
    "retorno_carteira= np.dot(ret_anual, pesos)"
   ]
  },
  {
   "cell_type": "code",
   "execution_count": 49,
   "metadata": {},
   "outputs": [
    {
     "name": "stdout",
     "output_type": "stream",
     "text": [
      "2.86%\n"
     ]
    }
   ],
   "source": [
    "print(f'{(retorno_carteira * 100):.2f}%')"
   ]
  },
  {
   "cell_type": "code",
   "execution_count": null,
   "metadata": {},
   "outputs": [],
   "source": []
  },
  {
   "cell_type": "markdown",
   "metadata": {},
   "source": [
    "# Risco da carteira"
   ]
  },
  {
   "cell_type": "markdown",
   "metadata": {},
   "source": [
    "Semelhante ao retorno da carteira, é uma média ponderada do risco de todos os ativos."
   ]
  },
  {
   "cell_type": "markdown",
   "metadata": {},
   "source": [
    "Variância"
   ]
  },
  {
   "cell_type": "code",
   "execution_count": 50,
   "metadata": {},
   "outputs": [],
   "source": [
    "carteira_var= (np.dot(pesos.T, np.dot(retorno.cov() * 246, pesos)))"
   ]
  },
  {
   "cell_type": "code",
   "execution_count": 51,
   "metadata": {},
   "outputs": [
    {
     "name": "stdout",
     "output_type": "stream",
     "text": [
      "2.08%\n"
     ]
    }
   ],
   "source": [
    "print(f'{(carteira_var * 100):.2f}%')"
   ]
  },
  {
   "cell_type": "markdown",
   "metadata": {},
   "source": [
    "Volatividade"
   ]
  },
  {
   "cell_type": "code",
   "execution_count": 52,
   "metadata": {},
   "outputs": [],
   "source": [
    "carteira_vol= (np.dot(pesos.T, np.dot(retorno.cov() * 246, pesos))) ** 0.5"
   ]
  },
  {
   "cell_type": "code",
   "execution_count": 53,
   "metadata": {},
   "outputs": [
    {
     "name": "stdout",
     "output_type": "stream",
     "text": [
      "14.43%\n"
     ]
    }
   ],
   "source": [
    "print(f'{(carteira_vol * 100):.2f}%')"
   ]
  },
  {
   "cell_type": "code",
   "execution_count": null,
   "metadata": {},
   "outputs": [],
   "source": []
  },
  {
   "cell_type": "markdown",
   "metadata": {},
   "source": [
    "# Risco sistemático e não sistemático da carteira"
   ]
  },
  {
   "cell_type": "markdown",
   "metadata": {},
   "source": [
    "O risco sistematico é a representação do risco que não é posivel ser controlado(desastres naturais, guerras e pandemias), já o risco não sistemático é a representação do risco inerente ao mercado na carteira(preço do petróleo, preço do dolar, economia interna), ele pode ser reduzido com uma boa diversificação de ativos."
   ]
  },
  {
   "cell_type": "code",
   "execution_count": 54,
   "metadata": {},
   "outputs": [],
   "source": [
    "r_diversificavel= carteira_var - ((pesos[0] ** 2 * ret_anual[0]) - (pesos[1] ** 2 * ret_anual[1]) - (pesos[2] ** 2 * ret_anual[2]) - (pesos[3] ** 2 * ret_anual[3]))"
   ]
  },
  {
   "cell_type": "code",
   "execution_count": 55,
   "metadata": {},
   "outputs": [
    {
     "data": {
      "text/plain": [
       "1.9965140154451715"
      ]
     },
     "execution_count": 55,
     "metadata": {},
     "output_type": "execute_result"
    }
   ],
   "source": [
    "r_diversificavel * 100"
   ]
  },
  {
   "cell_type": "code",
   "execution_count": 56,
   "metadata": {},
   "outputs": [],
   "source": [
    "r_n_diversificavel = carteira_var - r_diversificavel"
   ]
  },
  {
   "cell_type": "code",
   "execution_count": 57,
   "metadata": {},
   "outputs": [
    {
     "data": {
      "text/plain": [
       "0.08677684032976571"
      ]
     },
     "execution_count": 57,
     "metadata": {},
     "output_type": "execute_result"
    }
   ],
   "source": [
    "r_n_diversificavel * 100"
   ]
  },
  {
   "cell_type": "code",
   "execution_count": null,
   "metadata": {},
   "outputs": [],
   "source": []
  }
 ],
 "metadata": {
  "kernelspec": {
   "display_name": "Python 3",
   "language": "python",
   "name": "python3"
  },
  "language_info": {
   "codemirror_mode": {
    "name": "ipython",
    "version": 3
   },
   "file_extension": ".py",
   "mimetype": "text/x-python",
   "name": "python",
   "nbconvert_exporter": "python",
   "pygments_lexer": "ipython3",
   "version": "3.8.5"
  }
 },
 "nbformat": 4,
 "nbformat_minor": 4
}
